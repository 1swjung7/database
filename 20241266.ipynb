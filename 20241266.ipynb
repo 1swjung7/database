{
  "nbformat": 4,
  "nbformat_minor": 0,
  "metadata": {
    "colab": {
      "provenance": [],
      "authorship_tag": "ABX9TyM3vJCZkHxMaA3GMzv+WK3y",
      "include_colab_link": true
    },
    "kernelspec": {
      "name": "python3",
      "display_name": "Python 3"
    },
    "language_info": {
      "name": "python"
    }
  },
  "cells": [
    {
      "cell_type": "markdown",
      "metadata": {
        "id": "view-in-github",
        "colab_type": "text"
      },
      "source": [
        "<a href=\"https://colab.research.google.com/github/1swjung7/database/blob/main/20241266.ipynb\" target=\"_parent\"><img src=\"https://colab.research.google.com/assets/colab-badge.svg\" alt=\"Open In Colab\"/></a>"
      ]
    },
    {
      "cell_type": "code",
      "execution_count": null,
      "metadata": {
        "id": "O3cb2g4_HQOI"
      },
      "outputs": [],
      "source": [
        "#1. LeetCode 225. Implement Stack using Queues\n",
        "class MyStack {\n",
        "public:\n",
        "    queue<int> que;\n",
        "\n",
        "    MyStack() {\n",
        "\n",
        "    }\n",
        "\n",
        "    void push(int x) {\n",
        "        que.push(x);\n",
        "        int n = que.size();\n",
        "\n",
        "        for(int i=0; i<n-1; i++){\n",
        "            que.push(que.front());\n",
        "            que.pop();\n",
        "        }\n",
        "    }\n",
        "\n",
        "    int pop() {\n",
        "        int result = que.front();\n",
        "        que.pop();\n",
        "\n",
        "        return result;\n",
        "    }\n",
        "\n",
        "    int top() {\n",
        "        return que.front();\n",
        "    }\n",
        "\n",
        "    bool empty() {\n",
        "        return que.empty();\n",
        "    }\n",
        "};\n",
        "/**\n",
        " * Your MyStack object will be instantiated and called as such:\n",
        " * MyStack* obj = new MyStack();\n",
        " * obj->push(x);\n",
        " * int param_2 = obj->pop();\n",
        " * int param_3 = obj->top();\n",
        " * bool param_4 = obj->empty();\n",
        " */"
      ]
    },
    {
      "cell_type": "code",
      "source": [
        "#2. LeetCode 232. Implement Queue using Stacks\n",
        "class MyQueue {\n",
        "    stack<int> a;\n",
        "    stack<int> b;\n",
        "public:\n",
        "    MyQueue() {}\n",
        "\n",
        "    void push(int x) {\n",
        "        a.push(x);\n",
        "    }\n",
        "\n",
        "    int pop() {\n",
        "        if(b.empty()){\n",
        "        while(!a.empty()){\n",
        "            b.push(a.top());\n",
        "            a.pop();\n",
        "        }}\n",
        "        int c = b.top();\n",
        "        b.pop();\n",
        "        return c;\n",
        "    }\n",
        "\n",
        "    int peek() {\n",
        "        if(b.empty()){\n",
        "        while(!a.empty()){\n",
        "            b.push(a.top());\n",
        "            a.pop();\n",
        "        }}\n",
        "        return b.top();}\n",
        "\n",
        "\n",
        "\n",
        "    bool empty() {\n",
        "\n",
        "        return a.empty() && b.empty();\n",
        "\n",
        "    }\n",
        "};\n",
        "\n",
        "/**\n",
        " * Your MyQueue object will be instantiated and called as such:\n",
        " * MyQueue* obj = new MyQueue();\n",
        " * obj->push(x);\n",
        " * int param_2 = obj->pop();\n",
        " * int param_3 = obj->peek();\n",
        " * bool param_4 = obj->empty();\n",
        " */"
      ],
      "metadata": {
        "id": "xmR54g4sHTT9"
      },
      "execution_count": null,
      "outputs": []
    },
    {
      "cell_type": "code",
      "source": [
        "#큐 1번 문제\n",
        "class ListQueue:\n",
        "\tdef __init__(self):\n",
        "    \tself.__queue = []\n",
        "\n",
        "    def enqueue(self, item):\n",
        "    \tself.__queue.insert(0, item)\n",
        "\n",
        "    def dequeue(self):\n",
        "    \treturn self.__queue.pop()\n",
        "\n",
        "    def front(self):\n",
        "    \tif self.__queue.is_empty():\n",
        "        \treturn None\n",
        "        else:\n",
        "        \treturn self.__queue[len(self.__queue) - 1]\n",
        "\n",
        "    def is_empty(self) -> bool:\n",
        "    \treturn not bool(self.__queue)\n",
        "\n",
        "    def dequeue_all(self):\n",
        "    \tself.__queue.clear()\n",
        ""
      ],
      "metadata": {
        "id": "g8o0HHlbHXG6"
      },
      "execution_count": null,
      "outputs": []
    },
    {
      "cell_type": "code",
      "source": [
        "#2\n",
        "def is_in_set(string: String) -> bool:\n",
        "\tq = ListQueue()\n",
        "    index = 0\n",
        "    while string[index] != '$':\n",
        "    \tq.enqueue(string[index])\n",
        "        index += 1\n",
        "    index += 1\n",
        "    while index < len(string):\n",
        "    \tif q.dequeue() != string[index]:\n",
        "        \treturn False\n",
        "        else:\n",
        "        \tindex += 1\n",
        "    return True"
      ],
      "metadata": {
        "id": "SVLpUC_THboU"
      },
      "execution_count": null,
      "outputs": []
    },
    {
      "cell_type": "code",
      "source": [
        "#3\n",
        "def copy_linked_queue(a: LinkedQueue, b: LinkedQueue):\n",
        "\tb.dequeue_all()\n",
        "    temp_queue = LinkedQueue()\n",
        "    while not a.is_empty():\n",
        "    \ttemp_queue.enqueue(a.dequeue())\n",
        "    while not temp_queue.is_empty():\n",
        "    \ta.enqueue(temp_queue.front())\n",
        "        b.enqueue(temp_queue.dequeue())"
      ],
      "metadata": {
        "id": "PAuqSK1QHePq"
      },
      "execution_count": null,
      "outputs": []
    },
    {
      "cell_type": "code",
      "source": [
        "#4\n",
        "def push(q1: LinkedQueue, q2: LinkedQueue, item):\n",
        "\tq2.dequeue_all()\n",
        "\twhile not q1.is_empty():\n",
        "    \tq2.enqueue(q1.dequeue())\n",
        "    q1.enqueue(item)\n",
        "    while not q2.is_empty():\n",
        "    \tq1.enqueue(q2.dequeue())\n",
        "\n",
        "def pop(q1: LinkedQueue, q2: LinkedQueue):\n",
        "\tq2.dequeue_all()\n",
        "    count = 0\n",
        "\twhile not q1.is_empty():\n",
        "    \tq2.enqueue(q1.dequeue())\n",
        "        count += 1\n",
        "    while _ in range(count - 1):\n",
        "    \tq1.enqueue(q2.dequeue())\n",
        "    return q2.dequeue()"
      ],
      "metadata": {
        "id": "cOHJggRcHgOV"
      },
      "execution_count": null,
      "outputs": []
    },
    {
      "cell_type": "code",
      "source": [
        "#5\n",
        "def enqueue(s1: LinkedStack, s2: LinkedStack, item):\n",
        "\ts2.pop_all()\n",
        "    while not s1.is_empty():\n",
        "    \ts2.push(s1.pop())\n",
        "    s1.push(item)\n",
        "    while not s2.is_empty():\n",
        "    \ts1.push(s2.pop())\n",
        "\n",
        "def dequeue(s1: LinkedStack, s2: LinkedStack):\n",
        "\ts2.pop_all()\n",
        "    while not s1.is_empty():\n",
        "    \ts2.push(s1.pop())\n",
        "    ret_item = s2.pop()\n",
        "    while not s2.is_empty():\n",
        "    \ts1.push(s2.pop())\n",
        "    return ret_item"
      ],
      "metadata": {
        "id": "ckCXuSkRHjOn"
      },
      "execution_count": null,
      "outputs": []
    },
    {
      "cell_type": "code",
      "source": [
        "#6\n",
        "이 단원에서 구현하고자 하는 Deque는 단방향원형리스트를 기반으로 하며,\n",
        "front는 리스트의 맨 앞이며 tail은 리스트의 맨 끝으로 한다.\n",
        "enqueue()의 수행시간은 Deque의 front에서 수행할 시 Θ(1), Deque의 tail에서 수행할 시 Θ(1)이다. 따라서 수행 위치에 상관없이 enqueue()의 수행 시간은 Θ(1)이다.\n",
        "dequeue()의 수행시간은 Deque의 front에서 수행할 시 Θ(1), Deque의 tail에서 수행할 시 Θ(1)이다. 따라서 수행 위치에 상관없이 dequeue()의 수행 시간은 Θ(1)이다."
      ],
      "metadata": {
        "id": "TXxv2AhSHj7T"
      },
      "execution_count": null,
      "outputs": []
    },
    {
      "cell_type": "code",
      "source": [
        "#7\n",
        "이 단원에서 구현하고자 하는 Deque는 단방향리스트를 기반으로 하며,\n",
        "이 Deque의 front는 리스트의 맨 앞이며 tail은 리스트의 맨 끝으로 한다.\n",
        "enqueue()의 수행시간은 Deque의 front에서 수행할 시 Θ(1), Deque의 tail에서 수행할 시 Θ(n)이다. 따라서 enqueue()의 수행 시간은 최악의 경우를 고려해 Θ(n)이다.\n",
        "dequeue()의 수행시간은 Deque의 front에서 수행할 시 Θ(1), Deque의 tail에서 수행할 시 Θ(n)이다. 따라서 dequeue()의 수행 시간은 최악의 경우를 고려해 Θ(n)이다."
      ],
      "metadata": {
        "id": "01qoEJ0BHmk4"
      },
      "execution_count": null,
      "outputs": []
    },
    {
      "cell_type": "code",
      "source": [
        "#8\n",
        "class ListDeque:\n",
        "\tdef __init__(self):\n",
        "    \tself.__queue = []\n",
        "\n",
        "    def enqueue(self, item):\n",
        "    \tself.__queue.append(item)\n",
        "\n",
        "    def dequeue(self):\n",
        "    \treturn self.__queue.pop(0)\n",
        "\n",
        "    def push(self, item):\n",
        "    \tself.__queue.insert(0, item)\n",
        "\n",
        "    def pop(self):\n",
        "    \treturn self.__queue.pop(len(self.__queue) - 1)\n",
        "\n",
        "    def front(self):\n",
        "    \tif self.is_empty():\n",
        "        \treturn None\n",
        "        else:\n",
        "        \treturn self.__queue[0]\n",
        "\n",
        "    def rear(self):\n",
        "    \tif self.is_empty():\n",
        "        \treturn None\n",
        "    \telse:\n",
        "        \treturn self.__queue[len(self.__queue) - 1]\n",
        "\n",
        "    def is_empty(self):\n",
        "    \treturn not bool(self.__queue)\n",
        "\n",
        "    def deque_all(self):\n",
        "    \tself.__queue.clear()\n",
        "\n",
        "    def print_deque(self):\n",
        "    \tprint(\"Dequeue from front:\", end = ' ')\n",
        "        for index in range(len(self.__queue)):\n",
        "        \tprint(self.__queue[index], end = ' ')\n",
        "        print()"
      ],
      "metadata": {
        "id": "sqnlihDhHs_m"
      },
      "execution_count": null,
      "outputs": []
    }
  ]
}